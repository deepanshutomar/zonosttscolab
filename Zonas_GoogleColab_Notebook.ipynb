{
  "nbformat": 4,
  "nbformat_minor": 0,
  "metadata": {
    "colab": {
      "provenance": [],
      "gpuType": "T4"
    },
    "kernelspec": {
      "name": "python3",
      "display_name": "Python 3"
    },
    "language_info": {
      "name": "python"
    },
    "accelerator": "GPU"
  },
  "cells": [
    {
      "cell_type": "markdown",
      "source": [
        "![Zonos Header](https://raw.githubusercontent.com/Zyphra/Zonos/refs/heads/main/assets/ZonosHeader.png)\n",
        "\n",
        "# Zonos-v0.1\n",
        "\n",
        "Zonos-v0.1 is a leading open-weight text-to-speech model trained on more than 200k hours of varied multilingual speech, delivering expressiveness and quality on par with—or even surpassing—top TTS providers.\n",
        "\n",
        "## Features\n",
        "\n",
        "- **Natural Speech Generation**: Produces highly natural speech from text prompts.\n",
        "- **Speech Cloning**: Accurately clones speech from a reference clip of just a few seconds.\n",
        "- **Fine Control**:\n",
        "  - Adjust speaking rate\n",
        "  - Modify pitch variation\n",
        "  - Control audio quality\n",
        "  - Express emotions such as happiness, fear, sadness, and anger\n",
        "- **High-Quality Output**: Generates speech natively at 44kHz.\n",
        "\n",
        "With Zonos-v0.1, experience next-level speech synthesis that brings text to life with exceptional clarity and realism.\n"
      ],
      "metadata": {
        "id": "fJhqCzrm3gE6"
      }
    },
    {
      "cell_type": "code",
      "execution_count": null,
      "metadata": {
        "id": "cQ2jA30Ag-Bl"
      },
      "outputs": [],
      "source": [
        "!apt install -y espeak-ng # For Ubuntu\n",
        "# brew install espeak-ng # For MacOS"
      ]
    },
    {
      "cell_type": "code",
      "source": [
        "!apt install -y espeak-ng  # Install eSpeak phonemizer\n",
        "!pip install -U uv torch torchaudio  # Install Python dependencies\n",
        "!pip install git+https://github.com/Zyphra/Zonos.git  # Install Zonos\n"
      ],
      "metadata": {
        "id": "PEbU071dhCaM"
      },
      "execution_count": null,
      "outputs": []
    },
    {
      "cell_type": "code",
      "source": [
        "!pip uninstall -y numpy transformers\n",
        "!pip install numpy==1.23.5\n",
        "!pip install transformers --no-cache-dir\n",
        "!pip uninstall -y torch torchvision torchaudio\n",
        "!pip install torch torchvision torchaudio --index-url https://download.pytorch.org/whl/cu118"
      ],
      "metadata": {
        "id": "nfM6nlc3kKNH"
      },
      "execution_count": null,
      "outputs": []
    },
    {
      "source": [
        "!pip install -U scikit-learn scipy"
      ],
      "cell_type": "code",
      "metadata": {
        "id": "Sb3EP0WWjyNb"
      },
      "execution_count": null,
      "outputs": []
    },
    {
      "cell_type": "code",
      "source": [
        "import torch\n",
        "import torchvision\n",
        "\n",
        "print(\"Torch version:\", torch.__version__)\n",
        "print(\"Torchvision version:\", torchvision.__version__)\n",
        "print(\"CUDA available:\", torch.cuda.is_available())\n"
      ],
      "metadata": {
        "id": "QrBE0PeLkMoC"
      },
      "execution_count": null,
      "outputs": []
    },
    {
      "cell_type": "code",
      "source": [
        "# Remove any broken installation\n",
        "!pip uninstall -y zonos\n",
        "!rm -rf /usr/local/lib/python3.11/dist-packages/zonos*\n",
        "\n",
        "# Install dependencies\n",
        "!apt install -y espeak-ng  # Required for phonemization\n",
        "!pip install -U uv torch torchaudio transformers\n",
        "\n",
        "# Clone and install Zonos from the GitHub repository\n",
        "!git clone https://github.com/Zyphra/Zonos.git\n",
        "%cd Zonos\n",
        "!pip install -e ."
      ],
      "metadata": {
        "id": "lruetJM2it11"
      },
      "execution_count": null,
      "outputs": []
    },
    {
      "cell_type": "code",
      "source": [
        "import torch\n",
        "import torchaudio\n",
        "from zonos.model import Zonos\n",
        "from zonos.conditioning import make_cond_dict\n",
        "\n",
        "device = \"cuda\" if torch.cuda.is_available() else \"cpu\"\n",
        "model = Zonos.from_pretrained(\"Zyphra/Zonos-v0.1-transformer\", device=device)\n",
        "\n",
        "print(\"Zonos model loaded successfully!\")\n"
      ],
      "metadata": {
        "id": "GHlOF-Jmld6m"
      },
      "execution_count": null,
      "outputs": []
    },
    {
      "cell_type": "code",
      "source": [
        "# Load an example audio file\n",
        "wav, sampling_rate = torchaudio.load(\"path/to/your/audio_sample.mp3\")\n",
        "\n",
        "# Create speaker embedding\n",
        "speaker = model.make_speaker_embedding(wav, sampling_rate)\n",
        "\n",
        "# Define text prompt\n",
        "cond_dict = make_cond_dict(text=\"Hello, world!\", speaker=speaker, language=\"en-us\")\n",
        "conditioning = model.prepare_conditioning(cond_dict)\n",
        "\n",
        "# Generate speech\n",
        "codes = model.generate(conditioning)\n",
        "\n",
        "# Decode and save the output\n",
        "wavs = model.autoencoder.decode(codes).cpu()\n",
        "torchaudio.save(\"generated_sample.wav\", wavs[0], model.autoencoder.sampling_rate)\n"
      ],
      "metadata": {
        "id": "88-YvYJdixya"
      },
      "execution_count": null,
      "outputs": []
    },
    {
      "cell_type": "code",
      "source": [
        "%cd Zonos"
      ],
      "metadata": {
        "id": "Tn8kvCmmi03z"
      },
      "execution_count": null,
      "outputs": []
    },
    {
      "cell_type": "code",
      "source": [
        "!uv run gradio_interface.py # Start Gradio UI"
      ],
      "metadata": {
        "id": "jH2jlWr13S90"
      },
      "execution_count": null,
      "outputs": []
    }
  ]
}